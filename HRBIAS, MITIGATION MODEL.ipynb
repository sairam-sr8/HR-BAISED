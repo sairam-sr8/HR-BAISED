{
 "cells": [
  {
   "cell_type": "code",
   "execution_count": 1,
   "id": "084a1376-e398-4c59-bbe3-c0660cac3b1a",
   "metadata": {},
   "outputs": [],
   "source": [
    "import pandas as pd\n",
    "import numpy as np\n",
    "from sklearn.model_selection import train_test_split\n",
    "from sklearn.ensemble import RandomForestClassifier\n",
    "from sklearn.preprocessing import OneHotEncoder\n",
    "from sklearn.compose import ColumnTransformer\n",
    "from sklearn.pipeline import Pipeline\n",
    "from sklearn.metrics import accuracy_score, classification_report\n",
    "from fairlearn.reductions import ExponentiatedGradient, DemographicParity\n",
    "from sklearn.linear_model import LogisticRegression"
   ]
  },
  {
   "cell_type": "code",
   "execution_count": 2,
   "id": "663b9370-fcbb-412d-882f-82a35c010695",
   "metadata": {},
   "outputs": [],
   "source": [
    "from fairlearn.metrics import MetricFrame, selection_rate, demographic_parity_difference, equalized_odds_difference"
   ]
  },
  {
   "cell_type": "code",
   "execution_count": 3,
   "id": "03fa2d81-da6e-4fef-9701-8def32a15e8e",
   "metadata": {},
   "outputs": [],
   "source": [
    "df=pd.read_csv(r\"C:\\Users\\Nithisha\\Downloads\\HR_Bias_Detection_Dataset.csv\")"
   ]
  },
  {
   "cell_type": "code",
   "execution_count": 4,
   "id": "17ec855b-e36b-40f4-b18e-51aa3a327127",
   "metadata": {},
   "outputs": [],
   "source": [
    "X = df.drop(columns=['Promotion Status'])\n",
    "y = df['Promotion Status']\n",
    "\n",
    "categorical = ['Gender', 'Age Range', 'Ethnicity', 'Department', 'Education Level']\n",
    "numerical = ['Years of Experience', 'Performance Score', 'Training Participation',\n",
    "             'Support for Diversity Initiatives', 'Experienced Workplace Bias',\n",
    "             'Projects Handled', 'Overtime Hours']"
   ]
  },
  {
   "cell_type": "code",
   "execution_count": 5,
   "id": "e3e86674-8311-4588-834d-b4cc09bf9f35",
   "metadata": {},
   "outputs": [],
   "source": [
    "preprocessor = ColumnTransformer([\n",
    "    ('cat', OneHotEncoder(drop='first'), categorical)\n",
    "], remainder='passthrough')\n",
    "\n",
    "X_train, X_test, y_train, y_test = train_test_split(X, y, test_size=0.2, random_state=42)\n",
    "X_train_enc = preprocessor.fit_transform(X_train)\n",
    "X_test_enc = preprocessor.transform(X_test)"
   ]
  },
  {
   "cell_type": "code",
   "execution_count": 6,
   "id": "a2a15b35-d184-4f87-8bcc-f7a84b5634b1",
   "metadata": {},
   "outputs": [],
   "source": [
    "sensitive_train = X_train['Gender']\n",
    "sensitive_test = X_test['Gender']"
   ]
  },
  {
   "cell_type": "code",
   "execution_count": 7,
   "id": "9e9d5aa2-3de0-46f2-9a94-43d2d1dbc7e5",
   "metadata": {
    "scrolled": true
   },
   "outputs": [],
   "source": [
    "base_model = LogisticRegression(solver='liblinear', random_state=42)\n",
    "\n",
    "mitigator = ExponentiatedGradient(\n",
    "    estimator=base_model,\n",
    "    constraints=DemographicParity()\n",
    ")"
   ]
  },
  {
   "cell_type": "code",
   "execution_count": 8,
   "id": "4a496cbe-4977-41ce-9429-ede8dbffa902",
   "metadata": {},
   "outputs": [],
   "source": [
    "mitigator.fit(X_train_enc, y_train, sensitive_features=sensitive_train)\n",
    "y_pred = mitigator.predict(X_test_enc)"
   ]
  },
  {
   "cell_type": "code",
   "execution_count": 9,
   "id": "b295850a-c5c8-44b3-a294-3a23ab44fb6c",
   "metadata": {},
   "outputs": [],
   "source": [
    "accuracy = accuracy_score(y_test, y_pred)\n",
    "metric_frame = MetricFrame(\n",
    "    metrics={'accuracy': accuracy_score, 'selection_rate': selection_rate},\n",
    "    y_true=y_test,\n",
    "    y_pred=y_pred,\n",
    "    sensitive_features=sensitive_test\n",
    ")"
   ]
  },
  {
   "cell_type": "code",
   "execution_count": 10,
   "id": "7a37c531-42dd-4413-bd95-8bf160419702",
   "metadata": {},
   "outputs": [
    {
     "name": "stdout",
     "output_type": "stream",
     "text": [
      "Accuracy: 0.92\n"
     ]
    }
   ],
   "source": [
    "print(\"Accuracy:\", accuracy)"
   ]
  },
  {
   "cell_type": "code",
   "execution_count": 11,
   "id": "18b0a483-be10-4e42-8712-94aec5c22503",
   "metadata": {},
   "outputs": [],
   "source": [
    "dp_diff = demographic_parity_difference(y_test, y_pred, sensitive_features=sensitive_test)\n",
    "eo_diff = equalized_odds_difference(y_test, y_pred, sensitive_features=sensitive_test)"
   ]
  },
  {
   "cell_type": "code",
   "execution_count": 12,
   "id": "c7472a49-17bd-490b-8bd4-2d5a834d1e39",
   "metadata": {},
   "outputs": [
    {
     "name": "stdout",
     "output_type": "stream",
     "text": [
      "Mitigated Accuracy: 0.92\n",
      "Group-wise Metrics:         accuracy  selection_rate\n",
      "Gender                          \n",
      "Female  0.933333        0.066667\n",
      "Male    0.906667        0.013333\n",
      "Demographic Parity Difference: 0.05333333333333333\n",
      "Equalized Odds Difference: 0.375\n"
     ]
    }
   ],
   "source": [
    "print(\"Mitigated Accuracy:\", accuracy)\n",
    "print(\"Group-wise Metrics:\", metric_frame.by_group)\n",
    "print(\"Demographic Parity Difference:\", dp_diff)\n",
    "print(\"Equalized Odds Difference:\", eo_diff)"
   ]
  },
  {
   "cell_type": "code",
   "execution_count": null,
   "id": "6fb458da-11b2-4e9c-b4f0-79cb7202a106",
   "metadata": {},
   "outputs": [],
   "source": []
  }
 ],
 "metadata": {
  "kernelspec": {
   "display_name": "Python 3 (ipykernel)",
   "language": "python",
   "name": "python3"
  },
  "language_info": {
   "codemirror_mode": {
    "name": "ipython",
    "version": 3
   },
   "file_extension": ".py",
   "mimetype": "text/x-python",
   "name": "python",
   "nbconvert_exporter": "python",
   "pygments_lexer": "ipython3",
   "version": "3.12.4"
  }
 },
 "nbformat": 4,
 "nbformat_minor": 5
}
